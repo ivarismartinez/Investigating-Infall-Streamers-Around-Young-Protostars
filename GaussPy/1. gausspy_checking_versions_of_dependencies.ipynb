{
 "cells": [
  {
   "cell_type": "markdown",
   "metadata": {},
   "source": [
    "# Version of Python, NumPy, and Astropy that worked for me.\n",
    "I had a little bit of trouble creating an environment that ran GaussPy with the latest versions (as of fall 2024) of Python, Astropy, and NumPy so I had to use an older version of Python. Then there were some issues with the compatibility of NumPy and Astropy.\n",
    "\n",
    "I found that these versions gave me no trouble running the code. It is worth mentioning though, that I had to change some minor language in the code because this version of Python had changed some syntax. So, you will find some minor differences in this code to the original code found in the GaussPy page. \n",
    "\n",
    "Python version: 3.9.18\n",
    "\n",
    "Astropy version: 4.3.1\n",
    "\n",
    "NumPy version: 1.19.5\n",
    "\n",
    "I recommend creating an environment where you make sure you have these versions installed and then following the instructions to download GaussPy and its other dependencies as their website says. \n",
    "\n",
    "All versions and other dependencies (scipy, h5py, tqdm, lmfit, matplotlib) worked fine when I did this.\n"
   ]
  },
  {
   "cell_type": "code",
   "execution_count": null,
   "metadata": {},
   "outputs": [
    {
     "name": "stdout",
     "output_type": "stream",
     "text": [
      "Python version: 3.9.18\n",
      "Astropy version: 4.3.1\n",
      "NumPy version: 1.19.5\n",
      "GaussPy version: 1.0\n"
     ]
    }
   ],
   "source": [
    "import platform\n",
    "import astropy\n",
    "import numpy\n",
    "import gausspy\n",
    "\n",
    "print(\"Python version:\", platform.python_version())\n",
    "print(\"Astropy version:\", astropy.__version__)\n",
    "print(\"NumPy version:\", numpy.__version__)\n",
    "print(\"GaussPy version:\", gausspy.__version__)\n"
   ]
  }
 ],
 "metadata": {
  "language_info": {
   "name": "python"
  }
 },
 "nbformat": 4,
 "nbformat_minor": 2
}
